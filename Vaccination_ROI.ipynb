{
 "cells": [
  {
   "cell_type": "markdown",
   "id": "unable-commodity",
   "metadata": {},
   "source": [
    "# Importing Libraries"
   ]
  },
  {
   "cell_type": "code",
   "execution_count": 1,
   "id": "round-slide",
   "metadata": {},
   "outputs": [],
   "source": [
    "import cv2\n",
    "import matplotlib.pyplot as plt\n",
    "import numpy as np"
   ]
  },
  {
   "cell_type": "markdown",
   "id": "effective-design",
   "metadata": {},
   "source": [
    "# Homography\n",
    "<b>performHomography()</b> calculates the homography matrix and transform the query image using the homography matrix\n",
    "<ol>\n",
    "<li>First calculate the keypoint and desciptor of both the images</li>\n",
    "<li>Finding matching keypoint using both descriptors</li>\n",
    "<li>Calulating Homography matrix using the matching point</li>\n",
    "<li>Transforming te query Image using the obtained homography matrix</li>\n",
    "</ol>"
   ]
  },
  {
   "cell_type": "code",
   "execution_count": 2,
   "id": "interim-minority",
   "metadata": {},
   "outputs": [],
   "source": [
    "def performHomography(queryImage, templateImage):\n",
    "    a,b,_=templateImage.shape\n",
    "    \n",
    "    #Detecting main featues from both Images\n",
    "    sift=cv2.SIFT_create()\n",
    "    kp1,des1=sift.detectAndCompute(queryImage,None)\n",
    "    kp2,des2=sift.detectAndCompute(templateImage,None)\n",
    "    \n",
    "    #Matching features from both Images\n",
    "    FLANN_INDEX_KDTREE=1\n",
    "    index_params=dict(algorithm=FLANN_INDEX_KDTREE,trees=5)\n",
    "    search_params=dict(checks=50)\n",
    "    flann=cv2.FlannBasedMatcher(index_params,search_params)\n",
    "    matches=flann.knnMatch(des1,des2,k=2)\n",
    "    good=[]\n",
    "    for m,n in matches:\n",
    "        if m.distance<0.7*n.distance:\n",
    "            good.append(m)\n",
    "    \n",
    "    #Calculating Homography\n",
    "    src_pts=np.float32([kp1[m.queryIdx].pt for m in good ]).reshape(-1,1,2)\n",
    "    dst_pts=np.float32([kp2[m.trainIdx].pt for m in good ]).reshape(-1,1,2)\n",
    "    M,_=cv2.findHomography(src_pts,dst_pts,cv2.RANSAC,5.0)\n",
    "    \n",
    "    #returnig the transformed Image\n",
    "    alignedImage=cv2.warpPerspective(queryImage,M,(b,a))\n",
    "    return alignedImage"
   ]
  },
  {
   "cell_type": "markdown",
   "id": "suffering-performance",
   "metadata": {},
   "source": [
    "# Extracting Region of interest\n",
    "<b>extractRoi()</b> extract the ROI by using the neighbourhood of the ROI, for more details please see the README file"
   ]
  },
  {
   "cell_type": "code",
   "execution_count": 3,
   "id": "indie-hierarchy",
   "metadata": {},
   "outputs": [],
   "source": [
    "def extractRoi(alignedImage, templateImage, coordinates):\n",
    "    a,b,_=alignedImage.shape\n",
    "    ul,lr=coordinates\n",
    "    \n",
    "    #Taking extra 25 pixels around the ROI for matching\n",
    "    xmin=max(ul[0]-25,0)\n",
    "    xmax=min(lr[0]+25,a-1)\n",
    "    ymin=max(ul[1]-25-120,0)\n",
    "    ymax=min(lr[1]+25,b-1)\n",
    "    img_gray=cv2.cvtColor(alignedImage[xmin:xmax,ymin:ymax,:],cv2.COLOR_BGR2GRAY)\n",
    "    \n",
    "    #Increasing the ROI for Template Image also\n",
    "    template=templateImage[ul[0]:lr[0],ul[1]-120:lr[1],0]\n",
    "    \n",
    "    w,h=template.shape\n",
    "    res=cv2.matchTemplate(img_gray,template,cv2.TM_SQDIFF)\n",
    "    min_val,max_val,min_loc,max_loc=cv2.minMaxLoc(res)\n",
    "    top_left=min_loc\n",
    "    \n",
    "    #cropping the final matched Image to original ROI\n",
    "    extractedRoiImage=alignedImage[xmin+top_left[0]:xmin+top_left[0]+w,ymin+top_left[1]+120:ymin+top_left[1]+h,:]\n",
    "\n",
    "    return extractedRoiImage"
   ]
  },
  {
   "cell_type": "markdown",
   "id": "dramatic-student",
   "metadata": {},
   "source": [
    "<b>get_vaccination_roi()</b> first call the performHomography() function and then extractRoi() function; both of them are described baove."
   ]
  },
  {
   "cell_type": "code",
   "execution_count": 4,
   "id": "requested-blind",
   "metadata": {},
   "outputs": [],
   "source": [
    "def get_vaccination_roi(queryImage, templateImage, coordinates):\n",
    "    alignedImage = performHomography(queryImage, templateImage)\n",
    "    extractedRoiImage = extractRoi(alignedImage, templateImage, coordinates)\n",
    "    return extractedRoiImage"
   ]
  },
  {
   "cell_type": "markdown",
   "id": "corrected-civilian",
   "metadata": {},
   "source": [
    "# Reading Images\n",
    "Default query images(\"1_TVF7D32_original_mcp.jpg\") and template images(\"scan_templateImage_full(1).jpg\") are given.\n"
   ]
  },
  {
   "cell_type": "code",
   "execution_count": 5,
   "id": "ranging-plasma",
   "metadata": {},
   "outputs": [],
   "source": [
    "file1=\"1_TVF7D32_original_mcp.jpg\"\n",
    "file2=\"scan_templateImage_full(1).jpg\"\n",
    "\n",
    "img1=cv2.imread(file1)\n",
    "img2=cv2.imread(file2)"
   ]
  },
  {
   "cell_type": "markdown",
   "id": "extended-mistress",
   "metadata": {},
   "source": [
    "# Inputting Coordinates\n",
    "User can input coordinates by uncommenting line no. 1-5 and comment line 6,7 <br>\n",
    "Some Coordinates of vaccines are as follows:\n",
    "<ol>\n",
    "<li>OPV-1&emsp;[(262,458),(325,652)]</li>\n",
    "<li>Rota-1&emsp;[(417,456),(485,652)]</li>\n",
    "<li>Hep B&emsp;[(342,154),(404,332)]</li>\n",
    "<li>PCV-2&emsp;[(502,1094),(564,1286)]</li>\n",
    "</ol>"
   ]
  },
  {
   "cell_type": "code",
   "execution_count": 6,
   "id": "unsigned-flash",
   "metadata": {},
   "outputs": [],
   "source": [
    "#coordinates=input(\"Enter the coordinates in the format [(x1,y1),(x2,y2)]\")\n",
    "#ul,lr=x[2:-2].split(\"),(\")\n",
    "#ul=tuple(map(int,ul.split(\",\")))\n",
    "#lr=tuple(map(int,lr.split(\",\")))\n",
    "#coordinates=[ul,lr]\n",
    "coordinates=[(262,458),(325,652)]    #Coordinates of OPV-1\n",
    "ul,lr=coordinates"
   ]
  },
  {
   "cell_type": "markdown",
   "id": "worldwide-nightlife",
   "metadata": {},
   "source": [
    "## Calling get_vaccination_roi() for geeting the region of insterest from Query Image"
   ]
  },
  {
   "cell_type": "code",
   "execution_count": 7,
   "id": "computational-expression",
   "metadata": {},
   "outputs": [],
   "source": [
    "dst_img=get_vaccination_roi(img1,img2,coordinates)\n",
    "dst_img=cv2.cvtColor(dst_img, cv2.COLOR_BGR2RGB)"
   ]
  },
  {
   "cell_type": "markdown",
   "id": "acknowledged-acquisition",
   "metadata": {},
   "source": [
    "# Showing Result "
   ]
  },
  {
   "cell_type": "code",
   "execution_count": 8,
   "id": "fluid-representative",
   "metadata": {},
   "outputs": [
    {
     "data": {
      "image/png": "[encoded data removed]",
      "text/plain": [
       "<Figure size 432x288 with 2 Axes>"
      ]
     },
     "metadata": {},
     "output_type": "display_data"
    }
   ],
   "source": [
    "plt.subplot(121)\n",
    "plt.imshow(dst_img)\n",
    "plt.title('ROI of Query Image'), plt.xticks([]), plt.yticks([])\n",
    "img2 = cv2.cvtColor(img2, cv2.COLOR_BGR2RGB)\n",
    "plt.subplot(122)\n",
    "plt.imshow(img2[ul[0]:lr[0],ul[1]:lr[1]])\n",
    "plt.title('ROI of Template Image'), plt.xticks([]), plt.yticks([])\n",
    "plt.show()"
   ]
  },
  {
   "cell_type": "code",
   "execution_count": null,
   "id": "hazardous-xerox",
   "metadata": {},
   "outputs": [],
   "source": []
  },
  {
   "cell_type": "code",
   "execution_count": null,
   "id": "cleared-freeze",
   "metadata": {},
   "outputs": [],
   "source": []
  },
  {
   "cell_type": "code",
   "execution_count": null,
   "id": "declared-pleasure",
   "metadata": {},
   "outputs": [],
   "source": []
  },
  {
   "cell_type": "code",
   "execution_count": null,
   "id": "specified-garlic",
   "metadata": {},
   "outputs": [],
   "source": []
  },
  {
   "cell_type": "code",
   "execution_count": null,
   "id": "exposed-effort",
   "metadata": {},
   "outputs": [],
   "source": []
  }
 ],
 "metadata": {
  "kernelspec": {
   "display_name": "Python 3",
   "language": "python",
   "name": "python3"
  },
  "language_info": {
   "codemirror_mode": {
    "name": "ipython",
    "version": 3
   },
   "file_extension": ".py",
   "mimetype": "text/x-python",
   "name": "python",
   "nbconvert_exporter": "python",
   "pygments_lexer": "ipython3",
   "version": "3.6.13"
  }
 },
 "nbformat": 4,
 "nbformat_minor": 5
}
